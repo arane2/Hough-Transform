{
 "cells": [
  {
   "cell_type": "code",
   "execution_count": null,
   "metadata": {},
   "outputs": [],
   "source": [
    "Task 1"
   ]
  },
  {
   "cell_type": "code",
   "execution_count": 146,
   "metadata": {},
   "outputs": [
    {
     "name": "stdout",
     "output_type": "stream",
     "text": [
      "(310, 351)\n"
     ]
    },
    {
     "data": {
      "text/plain": [
       "True"
      ]
     },
     "execution_count": 146,
     "metadata": {},
     "output_type": "execute_result"
    }
   ],
   "source": [
    "import cv2\n",
    "import numpy as np\n",
    "import math\n",
    "\n",
    "img = cv2.imread('noise.jpg',0)\n",
    "cv2.imwrite('noisee.jpg', img)\n",
    "print(img.shape)\n",
    "\n",
    "a = 3    \n",
    "b = 3    \n",
    "ker = np.ones((a,b))\n",
    "kernellen= a*b\n",
    "\n",
    "def erosion(image , kernel ):\n",
    "    erosimg = np.zeros(image.shape)\n",
    "    rows = math.floor(kernel.shape[0]/2)\n",
    "    cols = math.floor(kernel.shape[1]/2)\n",
    "    for i in range(rows, image.shape[0] - rows):\n",
    "        for j in range(cols, image.shape[1] - rows):\n",
    "            temp = image[i - rows: i + rows + 1, j - cols: j + cols + 1]\n",
    "            count = 0\n",
    "            for k in range (kernel.shape[0]):\n",
    "                for l in range(kernel.shape[1]):\n",
    "                    if(temp[k][l] == 255):\n",
    "                        count += 1\n",
    "            if (count == kernellen):\n",
    "                erosimg[i][j] = 255\n",
    "    return erosimg\n",
    "                        \n",
    "def dilation(image, kernel):\n",
    "    erosimg = np.zeros(image.shape)\n",
    "    rows = math.floor(kernel.shape[0]/2)\n",
    "    cols = math.floor(kernel.shape[1]/2)\n",
    "    for i in range(rows, image.shape[0] - rows):\n",
    "        for j in range(cols, image.shape[1] - rows):\n",
    "            temp = image[i - rows: i + rows + 1, j - cols: j + cols + 1]\n",
    "            count = 0\n",
    "            for k in range (kernel.shape[0]):\n",
    "                for l in range(kernel.shape[1]):\n",
    "                    if(temp[k][l] == 255):\n",
    "                        count = 1\n",
    "            if (count == 1):\n",
    "                erosimg[i][j] = 255\n",
    "    return erosimg\n",
    "\n",
    "\n",
    "OTC = erosion(dilation(dilation(erosion(img,ker),ker),ker),ker)   \n",
    "cv2.imwrite('Opening_Then_Closing.png',OTC)\n",
    "\n",
    "CTO = dilation(erosion(erosion(dilation(img,ker),ker),ker),ker)   \n",
    "cv2.imwrite('Closing_Then_Opening.png',CTO)\n",
    "\n",
    "EOTC = erosion(OTC, ker)\n",
    "ECTO = erosion(CTO, ker)\n",
    "BoundaryOTC = OTC - EOTC\n",
    "BoundaryCTO = CTO - ECTO\n",
    "\n",
    "cv2.imwrite('Boundary_OTC.png', BoundaryOTC)\n",
    "cv2.imwrite('Boundary_CTO.png', BoundaryCTO)\n",
    "\n",
    "\n",
    "    "
   ]
  },
  {
   "cell_type": "markdown",
   "metadata": {},
   "source": [
    "Task 2"
   ]
  },
  {
   "cell_type": "code",
   "execution_count": 11,
   "metadata": {},
   "outputs": [
    {
     "name": "stdout",
     "output_type": "stream",
     "text": [
      "338.0 250 445\n",
      "(766, 571)\n"
     ]
    },
    {
     "data": {
      "text/plain": [
       "True"
      ]
     },
     "execution_count": 11,
     "metadata": {},
     "output_type": "execute_result"
    }
   ],
   "source": [
    "import cv2\n",
    "import numpy as np\n",
    "import math\n",
    "\n",
    "kernel = np.array([[1, -1, 1], [-1, 4, -1], [-1, -1, -1]])\n",
    "img_point = cv2.imread('turbine-blade.jpg', 0)\n",
    "\n",
    "\n",
    "def convol(img, ker):\n",
    "    convol_img = np.zeros((img.shape))\n",
    "    img_sub = np.ndarray((ker.shape))\n",
    "    m = img.shape[0]  # m-> no. of rows in Image\n",
    "    n = img.shape[1]\n",
    "    p = ker.shape[0]  # p -> no. of rows in Kernel\n",
    "    q = ker.shape[1]\n",
    "    rows = math.floor(p / 2)  # rows - > first row\n",
    "    cols = math.floor(q / 2)\n",
    "    for i in range(rows, m - rows):\n",
    "        for j in range(cols, n - cols):\n",
    "            img_sub = img[i - rows: i + rows + 1, j - cols: j + cols + 1]\n",
    "            summ = 0.0\n",
    "            for k in range(p):\n",
    "                for l in range(q):\n",
    "                    summ = summ + img_sub[k][l] * ker[k][l]\n",
    "            if summ >329 :                                     #We do thresholding here, in convol itself\n",
    "                #if we take threshold 312 we get 2 points\n",
    "                print(summ, i, j)\n",
    "                convol_img[i][j] = 255\n",
    "\n",
    "\n",
    "    return (convol_img)\n",
    "\n",
    "convoluted_img = convol(img_point, kernel)\n",
    "cv2.imwrite('POINTS.jpg', convoluted_img)\n",
    "print(img_point.shape)\n",
    "\n",
    "font                   = cv2.FONT_HERSHEY_SIMPLEX\n",
    "coordinates = (300,245)\n",
    "fontScale              = 1\n",
    "fontColor              = (255,255,255)\n",
    "lineType               = 2\n",
    "\n",
    "cv2.putText(convoluted_img,'Porosity', \n",
    "    coordinates, \n",
    "    font, \n",
    "    fontScale,\n",
    "    fontColor,\n",
    "    lineType)\n",
    "\n",
    "cv2.imwrite(\"LabelledImage.jpg\", convoluted_img)"
   ]
  },
  {
   "cell_type": "markdown",
   "metadata": {},
   "source": [
    "Task 2b"
   ]
  },
  {
   "cell_type": "code",
   "execution_count": 6,
   "metadata": {},
   "outputs": [
    {
     "data": {
      "text/plain": [
       "True"
      ]
     },
     "execution_count": 6,
     "metadata": {},
     "output_type": "execute_result"
    }
   ],
   "source": [
    "import cv2\n",
    "import numpy as np\n",
    "import math\n",
    "import matplotlib.pyplot as plt\n",
    "import matplotlib.patches as patches\n",
    "\n",
    "img_seg = cv2.imread('segment.jpg', 0)\n",
    "seg_threshold = np.zeros((img_seg.shape))\n",
    "\n",
    "for i in range(img_seg.shape[0]):\n",
    "    for j in range(img_seg.shape[1]):\n",
    "        if img_seg[i][j]>204 :\n",
    "            seg_threshold[i][j] = 255\n",
    "\n",
    "cv2.imwrite('seg_threshold204.jpg', seg_threshold)  \n",
    "i_coordinates = []                                      #all values of distinct i saved in list set wise\n",
    "j_coordinates = []\n",
    "\n",
    "for i in range(img_seg.shape[0]):\n",
    "    for j in range(img_seg.shape[1]):\n",
    "        if seg_threshold[i][j] == 255:\n",
    "            j_coordinates.append(j)               #j_coordinates --> All values of j saved\n",
    "j_coor = list(set(j_coordinates))                 #j_coor --> Distinct values of J coordinates saved\n",
    "j_coorspaced = []                                 #j_coorspaced --> SAve the sets of J coordinates\n",
    "j_coorspaced.append(j_coor[0])\n",
    "for i in range(len(j_coor)-1):\n",
    "    if j_coor[i+1]-j_coor[i] > 10 :\n",
    "        j_coorspaced.append(j_coor[i])\n",
    "        j_coorspaced.append(j_coor[i+1])\n",
    "j_coorspaced.append(j_coor[len(j_coor)-1])\n",
    "\n",
    "def icoor(seg_threshold, k, l):\n",
    "    i_funcoor = []                       #i_funcoor-->to store all the i points and are returned later but \n",
    "    for i in range(img_seg.shape[0]):    #while returning only sets of distinct values are returned\n",
    "        for j in range(k, l+1):\n",
    "            if seg_threshold[i][j] == 255:\n",
    "                i_funcoor.append(i)                                        \n",
    "    return list(set(i_funcoor))\n",
    "\n",
    "for i in range(math.floor(len(j_coorspaced)/2)):\n",
    "    i_coordinates.append(icoor(seg_threshold, j_coorspaced[2*i], j_coorspaced[2*i+1]))   \n",
    "                                                #sets of distinct values of i are appended in i_coordinates\n",
    "\n",
    "i_coorspaced = []                                                #to store the top and bottom of segments\n",
    "for i in range(len(i_coordinates)):  \n",
    "    i_coorspaced.append(min(i_coordinates[i]))\n",
    "    i_coorspaced.append(max(i_coordinates[i]))\n",
    "    \n",
    "cv2.rectangle(seg_threshold, (164, 127), (199, 162), (255,0,0), 2)\n",
    "cv2.rectangle(seg_threshold, (255, 79), (300, 202), (255,0,0), 2)\n",
    "cv2.rectangle(seg_threshold, (337, 27), (362, 284), (255,0,0), 2)\n",
    "cv2.rectangle(seg_threshold, (390, 44), (420, 249), (255,0,0), 2)\n",
    "cv2.imwrite(\"pahilabox1.jpg\",seg_threshold)"
   ]
  },
  {
   "cell_type": "code",
   "execution_count": 7,
   "metadata": {},
   "outputs": [
    {
     "data": {
      "text/plain": [
       "[127, 162, 79, 202, 27, 284, 44, 249]"
      ]
     },
     "execution_count": 7,
     "metadata": {},
     "output_type": "execute_result"
    }
   ],
   "source": [
    "i_coorspaced"
   ]
  },
  {
   "cell_type": "markdown",
   "metadata": {},
   "source": [
    "TASK 3"
   ]
  },
  {
   "cell_type": "code",
   "execution_count": 330,
   "metadata": {},
   "outputs": [],
   "source": [
    "import cv2\n",
    "import numpy as np\n",
    "import math\n",
    "\n",
    "img_hough = cv2.imread('hough.jpg', 0)\n",
    "img_canny = cv2.Canny(img_hough, 100, 250)\n",
    "cv2.imwrite(\"Img_canny.jpg\",img_canny)\n",
    "\n",
    "ker_hough = np.array([[-1, 2, -1], [-1, 2, -1], [-1, 2, -1]])\n",
    "\n",
    "def convol(img, ker):\n",
    "    convol_img = np.zeros((img.shape))\n",
    "    img_sub = np.ndarray((ker.shape))\n",
    "    m = img.shape[0]  # m-> no. of rows in Image\n",
    "    n = img.shape[1]\n",
    "    p = ker.shape[0]  # p -> no. of rows in Kernel\n",
    "    q = ker.shape[1]\n",
    "    rows = math.floor(p / 2)  # rows - > first row\n",
    "    cols = math.floor(q / 2)\n",
    "    for i in range(rows, m - rows):\n",
    "        for j in range(cols, n - cols):\n",
    "            img_sub = img[i - rows: i + rows + 1, j - cols: j + cols + 1]\n",
    "            summ = 0.0\n",
    "            for k in range(p):\n",
    "                for l in range(q):\n",
    "                    summ = summ + img_sub[k][l] * ker[k][l]       \n",
    "            if summ > 1529:                                   #We do thresholding here itself\n",
    "                convol_img[i][j] = 255\n",
    "    return convol_img\n",
    "\n",
    "convol_hough = convol(img_canny, ker_hough)\n",
    "cv2.imwrite(\"Hough_ConvolThreshold.jpg\",convol_hough)\n",
    "\n",
    "rows = convol_hough.shape[0]\n",
    "cols = convol_hough.shape[1]\n",
    "diag_len = np.ceil(np.sqrt(rows * rows + cols * cols))\n",
    "\n",
    "huff_matrix = np.zeros((int(diag_len), 181))\n",
    "\n",
    "for i in range(convol_hough.shape[0]):\n",
    "    for j in range(convol_hough.shape[1]):\n",
    "        if convol_hough[i][j] == 255:\n",
    "            for theta in range(0, 181):\n",
    "                rho = int(np.round(i * np.cos(np.deg2rad(theta)) + j * np.sin(np.deg2rad(theta))))\n",
    "                huff_matrix[rho, theta] += 1\n",
    "\n",
    "max_rho = []\n",
    "maxval = []\n",
    "maxrho = []\n",
    "max_rho = 0\n",
    "maxtheta = []\n",
    "max_theta = 0\n",
    "maxvalue = 0\n",
    "maxvalue2 = 0\n",
    "\n",
    "for z in range(15):\n",
    "    for i in range(huff_matrix.shape[0]):\n",
    "        for j in range(huff_matrix.shape[1]):\n",
    "            if huff_matrix[i, j] > maxvalue and z==0:\n",
    "                maxvalue = huff_matrix[i, j]\n",
    "                max_rho = i\n",
    "                max_theta = j\n",
    "            if huff_matrix[i, j] < maxvalue and huff_matrix[i, j] > maxvalue2 and z!=0:\n",
    "                maxvalue2 = huff_matrix[i, j]\n",
    "                max_rho = i\n",
    "                max_theta = j\n",
    "    if z==0:\n",
    "        maxval.append(maxvalue)\n",
    "    else:\n",
    "        maxval.append(maxvalue2)\n",
    "        maxvalue = maxvalue2\n",
    "        maxvalue2 = 0\n",
    "    maxrho.append(max_rho)\n",
    "    maxtheta.append(max_theta)\n",
    "\n",
    "\n"
   ]
  },
  {
   "cell_type": "code",
   "execution_count": 332,
   "metadata": {},
   "outputs": [
    {
     "name": "stdout",
     "output_type": "stream",
     "text": [
      "[562, 182, 82, 470, 467, 86, 564, 376, 178, 181, 185, 278, 373, 565, 89]\n",
      "[562, 182, 82, 470, 467, 86, 564, 376, 178, 181, 185, 278, 373, 565, 89]\n",
      "[562, 182, 82, 470, 467, 86, 564, 376, 178, 181, 185, 278, 373, 565, 89]\n"
     ]
    }
   ],
   "source": [
    "maxval_unique = []\n",
    "maxrho_unique = []\n",
    "maxtheta_unique = []\n",
    "indexes_unique = []\n",
    "sortedrho = []\n",
    "\n",
    "sortedrho = sorted(maxrho)\n",
    "indexes_unique.append(sortedrho[0])\n",
    "for i in range(len(sortedrho)-1):\n",
    "    if(sortedrho[i+1] - sortedrho[i] > 30):\n",
    "        indexes_unique.append(sortedrho[i+1])\n",
    "for i in range(len(indexes_unique)):\n",
    "    for j in range(len(maxrho)):\n",
    "        if(maxrho[j] == indexes_unique[i]):\n",
    "            maxval_unique.append(maxval[j])\n",
    "            maxrho_unique.append(maxrho[j])\n",
    "            maxtheta_unique.append(maxtheta[j])"
   ]
  },
  {
   "cell_type": "code",
   "execution_count": 344,
   "metadata": {
    "scrolled": false
   },
   "outputs": [],
   "source": [
    "vertical_lines = np.zeros(convol_hough.shape)\n",
    "for z in range(6):\n",
    "    for i in range(450):\n",
    "        x = i\n",
    "        y = math.ceil((-x/math.tan(math.radians(maxtheta_unique[z])))+maxrho_unique[z]/math.sin(math.radians(maxtheta_unique[z])))\n",
    "        vertical_lines[x][y]=255\n",
    "        convol_hough[x][y] = 255\n",
    "\n",
    "    "
   ]
  },
  {
   "cell_type": "code",
   "execution_count": 345,
   "metadata": {
    "scrolled": false
   },
   "outputs": [
    {
     "data": {
      "text/plain": [
       "True"
      ]
     },
     "execution_count": 345,
     "metadata": {},
     "output_type": "execute_result"
    }
   ],
   "source": [
    "cv2.imwrite(\"VerticalLineall.jpg\",vertical_lines)\n",
    "cv2.imwrite(\"HoughpeVerticalall.jpg\", convol_hough)"
   ]
  },
  {
   "cell_type": "markdown",
   "metadata": {},
   "source": [
    "Task 3b"
   ]
  },
  {
   "cell_type": "code",
   "execution_count": 12,
   "metadata": {},
   "outputs": [
    {
     "data": {
      "text/plain": [
       "True"
      ]
     },
     "execution_count": 12,
     "metadata": {},
     "output_type": "execute_result"
    }
   ],
   "source": [
    "import cv2\n",
    "import numpy as np\n",
    "import math\n",
    "\n",
    "img_hough = cv2.imread('hough.jpg', 0)\n",
    "img_canny = cv2.Canny(img_hough, 100, 250)\n",
    "cv2.imwrite(\"Img_canny.jpg\",img_canny)\n",
    "\n",
    "ker_hough = np.array([[2, -1, -1], [-1, 2, -1], [-1, -1, 2]])\n",
    "\n",
    "def convol(img, ker):\n",
    "    convol_img = np.zeros((img.shape))\n",
    "    img_sub = np.ndarray((ker.shape))\n",
    "    m = img.shape[0]  # m-> no. of rows in Image\n",
    "    n = img.shape[1]\n",
    "    p = ker.shape[0]  # p -> no. of rows in Kernel\n",
    "    q = ker.shape[1]\n",
    "    rows = math.floor(p / 2)  # rows - > first row\n",
    "    cols = math.floor(q / 2)\n",
    "    for i in range(rows, m - rows):\n",
    "        for j in range(cols, n - cols):\n",
    "            img_sub = img[i - rows: i + rows + 1, j - cols: j + cols + 1]\n",
    "            summ = 0.0\n",
    "            for k in range(p):\n",
    "                for l in range(q):\n",
    "                    summ = summ + img_sub[k][l] * ker[k][l]       \n",
    "            if summ > 900:                                   #We do thresholding here itself\n",
    "                convol_img[i][j] = 255\n",
    "    return convol_img\n",
    "\n",
    "convol_hough = convol(img_canny, ker_hough)\n",
    "cv2.imwrite(\"Hough_ConvolThreshold1020.jpg\",convol_hough)\n"
   ]
  },
  {
   "cell_type": "code",
   "execution_count": 13,
   "metadata": {},
   "outputs": [],
   "source": [
    "rows = convol_hough.shape[0]\n",
    "cols = convol_hough.shape[1]\n",
    "diag_len = np.ceil(np.sqrt(rows * rows + cols * cols))\n",
    "\n",
    "huff_matrix = np.zeros((int(diag_len), 181))\n",
    "\n",
    "for i in range(convol_hough.shape[0]):\n",
    "    for j in range(convol_hough.shape[1]):\n",
    "        if convol_hough[i][j] == 255:\n",
    "            for theta in range(0, 181):\n",
    "                rho = int(np.round(i * np.cos(np.deg2rad(theta)) + j * np.sin(np.deg2rad(theta))))\n",
    "                huff_matrix[rho, theta] += 1\n",
    "\n",
    "max_rho = []\n",
    "maxval = []\n",
    "maxrho = []\n",
    "max_rho = 0\n",
    "maxtheta = []\n",
    "max_theta = 0\n",
    "maxvalue = 0\n",
    "maxvalue2 = 0\n",
    "\n",
    "for z in range(15):\n",
    "    for i in range(huff_matrix.shape[0]):\n",
    "        for j in range(huff_matrix.shape[1]):\n",
    "            if huff_matrix[i, j] > maxvalue and z==0:\n",
    "                maxvalue = huff_matrix[i, j]\n",
    "                max_rho = i\n",
    "                max_theta = j\n",
    "            if huff_matrix[i, j] < maxvalue and huff_matrix[i, j] > maxvalue2 and z!=0:\n",
    "                maxvalue2 = huff_matrix[i, j]\n",
    "                max_rho = i\n",
    "                max_theta = j\n",
    "    if z==0:\n",
    "        maxval.append(maxvalue)\n",
    "    else:\n",
    "        maxval.append(maxvalue2)\n",
    "        maxvalue = maxvalue2\n",
    "        maxvalue2 = 0\n",
    "    maxrho.append(max_rho)\n",
    "    maxtheta.append(max_theta)\n"
   ]
  },
  {
   "cell_type": "code",
   "execution_count": 14,
   "metadata": {},
   "outputs": [],
   "source": [
    "maxval_unique = []\n",
    "maxrho_unique = []\n",
    "maxtheta_unique = []\n",
    "indexes_unique = []\n",
    "sortedrho = []\n",
    "\n",
    "sortedrho = sorted(maxrho)\n",
    "indexes_unique.append(sortedrho[0])\n",
    "for i in range(len(sortedrho)-1):\n",
    "    if(sortedrho[i+1] - sortedrho[i] > 5):\n",
    "        indexes_unique.append(sortedrho[i+1])\n",
    "for i in range(len(indexes_unique)):\n",
    "    for j in range(len(maxrho)):\n",
    "        if(maxrho[j] == indexes_unique[i]):\n",
    "            maxval_unique.append(maxval[j])\n",
    "            maxrho_unique.append(maxrho[j])\n",
    "            maxtheta_unique.append(maxtheta[j])"
   ]
  },
  {
   "cell_type": "code",
   "execution_count": 15,
   "metadata": {},
   "outputs": [],
   "source": [
    "vertical_lines = np.zeros(convol_hough.shape)\n",
    "for z in range(3):\n",
    "    for i in range(450):\n",
    "        x = i\n",
    "        y = math.ceil((-x/math.tan(math.radians(maxtheta_unique[z])))+maxrho_unique[z]/math.sin(math.radians(maxtheta_unique[z])))\n",
    "        vertical_lines[x][y]=255\n",
    "        convol_hough[x][y] = 255\n",
    "z = 3\n",
    "for i in range(450):\n",
    "        x = i\n",
    "        y = math.ceil((-x/math.tan(math.radians(maxtheta_unique[z])))+maxrho_unique[z]/math.sin(math.radians(maxtheta_unique[z])))\n",
    "        vertical_lines[x][y]=255\n",
    "        convol_hough[x][y] = 255\n",
    "\n",
    "temp1 = np.zeros(convol_hough.shape)\n",
    "temp2 = np.zeros(convol_hough.shape)\n",
    "tempfin = np.zeros(convol_hough.shape)\n",
    "for i in range(350):\n",
    "        x = i        \n",
    "        y = math.ceil((-x/math.tan(math.radians(127)))+320/math.sin(math.radians(127)))\n",
    "        temp2[x][y]=255\n",
    "        y = math.ceil((-x/math.tan(math.radians(126)))+320/math.sin(math.radians(126)))\n",
    "        temp1[x][y]=255\n",
    "tempfin = temp2 - temp1\n",
    "for i in range(tempfin.shape[0]):\n",
    "    for j in range(tempfin.shape[1]):\n",
    "        if tempfin[i][j] == 255 :\n",
    "            vertical_lines[i][j]=255\n",
    "            convol_hough[i][j] = 255\n",
    "            "
   ]
  },
  {
   "cell_type": "code",
   "execution_count": 16,
   "metadata": {},
   "outputs": [
    {
     "data": {
      "text/plain": [
       "True"
      ]
     },
     "execution_count": 16,
     "metadata": {},
     "output_type": "execute_result"
    }
   ],
   "source": [
    "cv2.imwrite(\"VerticalLineall.jpg\",vertical_lines)\n",
    "cv2.imwrite(\"HoughpeVerticalall320-127.jpg\", convol_hough)"
   ]
  },
  {
   "cell_type": "code",
   "execution_count": null,
   "metadata": {},
   "outputs": [],
   "source": []
  }
 ],
 "metadata": {
  "kernelspec": {
   "display_name": "Python 3",
   "language": "python",
   "name": "python3"
  },
  "language_info": {
   "codemirror_mode": {
    "name": "ipython",
    "version": 3
   },
   "file_extension": ".py",
   "mimetype": "text/x-python",
   "name": "python",
   "nbconvert_exporter": "python",
   "pygments_lexer": "ipython3",
   "version": "3.7.3"
  }
 },
 "nbformat": 4,
 "nbformat_minor": 2
}
